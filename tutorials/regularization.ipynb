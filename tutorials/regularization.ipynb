{
 "cells": [
  {
   "cell_type": "markdown",
   "metadata": {},
   "source": [
    "# Regularization: $L_1$ and $L_2$\n",
    "\n",
    "Author: Tianyu Du\n",
    "Date: Sept. 28, 2022\n",
    "\n",
    "Also known as **weight decay** or **penalized regression**. Adding the regularization loss term would shrink coefficient magnitudes and better prevent over-fitting.\n",
    "\n",
    "Specifically, we add the $L_1$ or $L_2$ norm of coefficients to the loss (negative log-likelihood) function.\n",
    "\n",
    "$$\n",
    "\\text{Loss} = \\text{NegativeLogLikelihood} + \\alpha \\sum_{c \\in \\text{model coefficients}} ||c||_p \\quad p \\in \\{1, 2\\}\n",
    "$$\n",
    "\n",
    "Readers can adjust the $\\alpha$ weight to control the strength of regularization."
   ]
  },
  {
   "cell_type": "code",
   "execution_count": 1,
   "metadata": {},
   "outputs": [],
   "source": [
    "import argparse\n",
    "\n",
    "import numpy as np\n",
    "import pandas as pd\n",
    "import torch\n",
    "\n",
    "from torch_choice.data import ChoiceDataset, JointDataset, utils\n",
    "from torch_choice.model.nested_logit_model import NestedLogitModel\n",
    "from torch_choice.model import ConditionalLogitModel\n",
    "from torch_choice.utils.run_helper import run"
   ]
  },
  {
   "cell_type": "code",
   "execution_count": 2,
   "metadata": {},
   "outputs": [
    {
     "name": "stdout",
     "output_type": "stream",
     "text": [
      "Running tutorial on CPU.\n"
     ]
    }
   ],
   "source": [
    "if torch.cuda.is_available():\n",
    "    print(f'CUDA device used: {torch.cuda.get_device_name()}')\n",
    "    device = 'cuda'\n",
    "else:\n",
    "    print('Running tutorial on CPU.')\n",
    "    device = 'cpu'"
   ]
  },
  {
   "cell_type": "markdown",
   "metadata": {},
   "source": [
    "## Conditional Logit Model"
   ]
  },
  {
   "cell_type": "code",
   "execution_count": 3,
   "metadata": {},
   "outputs": [
    {
     "name": "stdout",
     "output_type": "stream",
     "text": [
      "No `session_index` is provided, assume each choice instance is in its own session.\n",
      "ChoiceDataset(label=[], item_index=[2779], provided_num_items=[], user_index=[], session_index=[2779], item_availability=[], price_cost_freq_ovt=[2779, 4, 3], session_income=[2779, 1], price_ivt=[2779, 4, 1], device=cpu)\n"
     ]
    }
   ],
   "source": [
    "df = pd.read_csv('./public_datasets/ModeCanada.csv')\n",
    "df = df.query('noalt == 4').reset_index(drop=True)\n",
    "df.sort_values(by='case', inplace=True)\n",
    "item_index = df[df['choice'] == 1].sort_values(by='case')['alt'].reset_index(drop=True)\n",
    "item_names = ['air', 'bus', 'car', 'train']\n",
    "num_items = 4\n",
    "encoder = dict(zip(item_names, range(num_items)))\n",
    "item_index = item_index.map(lambda x: encoder[x])\n",
    "item_index = torch.LongTensor(item_index)\n",
    "price_cost_freq_ovt = utils.pivot3d(df, dim0='case', dim1='alt',\n",
    "                                    values=['cost', 'freq', 'ovt'])\n",
    "\n",
    "price_ivt = utils.pivot3d(df, dim0='case', dim1='alt', values='ivt')\n",
    "session_income = df.groupby('case')['income'].first()\n",
    "session_income = torch.Tensor(session_income.values).view(-1, 1)\n",
    "dataset = ChoiceDataset(item_index=item_index,\n",
    "                        price_cost_freq_ovt=price_cost_freq_ovt,\n",
    "                        session_income=session_income,\n",
    "                        price_ivt=price_ivt\n",
    "                        ).to(device)\n",
    "print(dataset)"
   ]
  },
  {
   "cell_type": "code",
   "execution_count": 4,
   "metadata": {},
   "outputs": [],
   "source": [
    "# shuffle the dataset.\n",
    "N = len(dataset)\n",
    "shuffle_index = np.random.permutation(N)\n",
    "\n",
    "train_index = shuffle_index[:int(0.7 * N)]\n",
    "test_index = shuffle_index[int(0.7 * N):]\n",
    "\n",
    "# splits of dataset.\n",
    "dataset_train, dataset_test = dataset[train_index], dataset[test_index]"
   ]
  },
  {
   "cell_type": "code",
   "execution_count": 5,
   "metadata": {},
   "outputs": [],
   "source": [
    "conditional_logit_common_arguments = {\n",
    "    \"coef_variation_dict\": {'price_cost_freq_ovt': 'constant',\n",
    "                            'session_income': 'item',\n",
    "                            'price_ivt': 'item-full',\n",
    "                            'intercept': 'item'},\n",
    "    \"num_param_dict\": {'price_cost_freq_ovt': 3,\n",
    "                       'session_income': 1,\n",
    "                       'price_ivt': 1,\n",
    "                       'intercept': 1},\n",
    "    \"num_items\": 4,\n",
    "}"
   ]
  },
  {
   "cell_type": "code",
   "execution_count": 6,
   "metadata": {},
   "outputs": [],
   "source": [
    "def train_conditional_logit_model(regularization, regularization_weight):\n",
    "    model = ConditionalLogitModel(**conditional_logit_common_arguments,\n",
    "                                regularization=regularization,\n",
    "                                regularization_weight=regularization_weight).to(device)\n",
    "\n",
    "    run(model, dataset_train, dataset_test=dataset_test, num_epochs=50000, learning_rate=0.003, batch_size=-1)\n",
    "    # report total model weight\n",
    "    print('Total weight L2 norm:', sum([torch.norm(param, p=2) for param in model.parameters()]))"
   ]
  },
  {
   "cell_type": "code",
   "execution_count": 7,
   "metadata": {},
   "outputs": [
    {
     "name": "stdout",
     "output_type": "stream",
     "text": [
      "==================== received model ====================\n",
      "ConditionalLogitModel(\n",
      "  (coef_dict): ModuleDict(\n",
      "    (price_cost_freq_ovt): Coefficient(variation=constant, num_items=4, num_users=None, num_params=3, 3 trainable parameters in total, device=cpu).\n",
      "    (session_income): Coefficient(variation=item, num_items=4, num_users=None, num_params=1, 3 trainable parameters in total, device=cpu).\n",
      "    (price_ivt): Coefficient(variation=item-full, num_items=4, num_users=None, num_params=1, 4 trainable parameters in total, device=cpu).\n",
      "    (intercept): Coefficient(variation=item, num_items=4, num_users=None, num_params=1, 3 trainable parameters in total, device=cpu).\n",
      "  )\n",
      ")\n",
      "Conditional logistic discrete choice model, expects input features:\n",
      "\n",
      "X[price_cost_freq_ovt] with 3 parameters, with constant level variation.\n",
      "X[session_income] with 1 parameters, with item level variation.\n",
      "X[price_ivt] with 1 parameters, with item-full level variation.\n",
      "X[intercept] with 1 parameters, with item level variation.\n",
      "device=cpu\n",
      "==================== received dataset ====================\n",
      "ChoiceDataset(label=[], item_index=[1945], provided_num_items=[], user_index=[], session_index=[1945], item_availability=[], price_cost_freq_ovt=[2779, 4, 3], session_income=[2779, 1], price_ivt=[2779, 4, 1], device=cpu)\n",
      "==================== training the model ====================\n",
      "Epoch 5000: Log-likelihood=-1325.78857421875\n",
      "Epoch 10000: Log-likelihood=-1325.637939453125\n",
      "Epoch 15000: Log-likelihood=-1325.6229248046875\n",
      "Epoch 20000: Log-likelihood=-1325.9866943359375\n",
      "Epoch 25000: Log-likelihood=-1325.62158203125\n",
      "Epoch 30000: Log-likelihood=-1325.6485595703125\n",
      "Epoch 35000: Log-likelihood=-1325.62158203125\n",
      "Epoch 40000: Log-likelihood=-1325.62158203125\n",
      "Epoch 45000: Log-likelihood=-1325.62158203125\n",
      "Epoch 50000: Log-likelihood=-1327.5643310546875\n",
      "Test set log-likelihood:  -551.3011474609375\n",
      "==================== model results ====================\n",
      "Training Epochs: 50000\n",
      "\n",
      "Learning Rate: 0.003\n",
      "\n",
      "Batch Size: 1945 out of 1945 observations in total\n",
      "\n",
      "Final Log-likelihood: -1327.5643310546875\n",
      "\n",
      "Coefficients:\n",
      "\n",
      "| Coefficient           |   Estimation |   Std. Err. |\n",
      "|:----------------------|-------------:|------------:|\n",
      "| price_cost_freq_ovt_0 |  -0.0373549  |  0.00842411 |\n",
      "| price_cost_freq_ovt_1 |   0.0937747  |  0.00610334 |\n",
      "| price_cost_freq_ovt_2 |  -0.0396654  |  0.00375228 |\n",
      "| session_income_0      |  -0.094254   |  0.0218526  |\n",
      "| session_income_1      |  -0.0265656  |  0.00459953 |\n",
      "| session_income_2      |  -0.0390191  |  0.00483977 |\n",
      "| price_ivt_0           |   0.0525181  |  0.0119937  |\n",
      "| price_ivt_1           |  -0.00546028 |  0.00478521 |\n",
      "| price_ivt_2           |  -0.00617448 |  0.00227468 |\n",
      "| price_ivt_3           |  -0.00136636 |  0.00142651 |\n",
      "| intercept_0           |  -0.278597   |  1.4403     |\n",
      "| intercept_1           |   1.22487    |  0.829208   |\n",
      "| intercept_2           |   2.54724    |  0.725399   |\n",
      "Total weight L2 norm: tensor(2.2228, grad_fn=<AddBackward0>)\n"
     ]
    }
   ],
   "source": [
    "train_conditional_logit_model(regularization=None, regularization_weight=None)"
   ]
  },
  {
   "cell_type": "code",
   "execution_count": 8,
   "metadata": {},
   "outputs": [
    {
     "name": "stdout",
     "output_type": "stream",
     "text": [
      "==================== received model ====================\n",
      "ConditionalLogitModel(\n",
      "  (coef_dict): ModuleDict(\n",
      "    (price_cost_freq_ovt): Coefficient(variation=constant, num_items=4, num_users=None, num_params=3, 3 trainable parameters in total, device=cpu).\n",
      "    (session_income): Coefficient(variation=item, num_items=4, num_users=None, num_params=1, 3 trainable parameters in total, device=cpu).\n",
      "    (price_ivt): Coefficient(variation=item-full, num_items=4, num_users=None, num_params=1, 4 trainable parameters in total, device=cpu).\n",
      "    (intercept): Coefficient(variation=item, num_items=4, num_users=None, num_params=1, 3 trainable parameters in total, device=cpu).\n",
      "  )\n",
      ")\n",
      "Conditional logistic discrete choice model, expects input features:\n",
      "\n",
      "X[price_cost_freq_ovt] with 3 parameters, with constant level variation.\n",
      "X[session_income] with 1 parameters, with item level variation.\n",
      "X[price_ivt] with 1 parameters, with item-full level variation.\n",
      "X[intercept] with 1 parameters, with item level variation.\n",
      "device=cpu\n",
      "==================== received dataset ====================\n",
      "ChoiceDataset(label=[], item_index=[1945], provided_num_items=[], user_index=[], session_index=[1945], item_availability=[], price_cost_freq_ovt=[2779, 4, 3], session_income=[2779, 1], price_ivt=[2779, 4, 1], device=cpu)\n",
      "==================== training the model ====================\n",
      "Epoch 5000: Log-likelihood=-1328.84521484375\n",
      "Epoch 10000: Log-likelihood=-1328.5853271484375\n",
      "Epoch 15000: Log-likelihood=-1328.7000732421875\n",
      "Epoch 20000: Log-likelihood=-1328.594482421875\n",
      "Epoch 25000: Log-likelihood=-1328.585205078125\n",
      "Epoch 30000: Log-likelihood=-1328.5869140625\n",
      "Epoch 35000: Log-likelihood=-1328.5921630859375\n",
      "Epoch 40000: Log-likelihood=-1328.5950927734375\n",
      "Epoch 45000: Log-likelihood=-1328.592529296875\n",
      "Epoch 50000: Log-likelihood=-1328.5859375\n",
      "Test set log-likelihood:  -555.0253295898438\n",
      "==================== model results ====================\n",
      "Training Epochs: 50000\n",
      "\n",
      "Learning Rate: 0.003\n",
      "\n",
      "Batch Size: 1945 out of 1945 observations in total\n",
      "\n",
      "Final Log-likelihood: -1328.5859375\n",
      "\n",
      "Coefficients:\n",
      "\n",
      "| Coefficient           |   Estimation |   Std. Err. |\n",
      "|:----------------------|-------------:|------------:|\n",
      "| price_cost_freq_ovt_0 | -0.0474585   |  0.00832359 |\n",
      "| price_cost_freq_ovt_1 |  0.0942932   |  0.00605724 |\n",
      "| price_cost_freq_ovt_2 | -0.0375634   |  0.00371014 |\n",
      "| session_income_0      | -0.104065    |  0.0228269  |\n",
      "| session_income_1      | -0.0237385   |  0.00450149 |\n",
      "| session_income_2      | -0.0340249   |  0.00476542 |\n",
      "| price_ivt_0           |  0.0502602   |  0.0118852  |\n",
      "| price_ivt_1           | -0.0123554   |  0.00677188 |\n",
      "| price_ivt_2           | -0.00467557  |  0.00224236 |\n",
      "| price_ivt_3           | -0.00106266  |  0.00141054 |\n",
      "| intercept_0           | -0.000528152 |  1.57164    |\n",
      "| intercept_1           |  8.80531e-05 |  0.810127   |\n",
      "| intercept_2           |  1.16661     |  0.703271   |\n",
      "Total weight L2 norm: tensor(1.1216, grad_fn=<AddBackward0>)\n"
     ]
    }
   ],
   "source": [
    "train_conditional_logit_model(regularization='L1', regularization_weight=5)"
   ]
  },
  {
   "cell_type": "code",
   "execution_count": 9,
   "metadata": {},
   "outputs": [
    {
     "name": "stdout",
     "output_type": "stream",
     "text": [
      "==================== received model ====================\n",
      "ConditionalLogitModel(\n",
      "  (coef_dict): ModuleDict(\n",
      "    (price_cost_freq_ovt): Coefficient(variation=constant, num_items=4, num_users=None, num_params=3, 3 trainable parameters in total, device=cpu).\n",
      "    (session_income): Coefficient(variation=item, num_items=4, num_users=None, num_params=1, 3 trainable parameters in total, device=cpu).\n",
      "    (price_ivt): Coefficient(variation=item-full, num_items=4, num_users=None, num_params=1, 4 trainable parameters in total, device=cpu).\n",
      "    (intercept): Coefficient(variation=item, num_items=4, num_users=None, num_params=1, 3 trainable parameters in total, device=cpu).\n",
      "  )\n",
      ")\n",
      "Conditional logistic discrete choice model, expects input features:\n",
      "\n",
      "X[price_cost_freq_ovt] with 3 parameters, with constant level variation.\n",
      "X[session_income] with 1 parameters, with item level variation.\n",
      "X[price_ivt] with 1 parameters, with item-full level variation.\n",
      "X[intercept] with 1 parameters, with item level variation.\n",
      "device=cpu\n",
      "==================== received dataset ====================\n",
      "ChoiceDataset(label=[], item_index=[1945], provided_num_items=[], user_index=[], session_index=[1945], item_availability=[], price_cost_freq_ovt=[2779, 4, 3], session_income=[2779, 1], price_ivt=[2779, 4, 1], device=cpu)\n",
      "==================== training the model ====================\n",
      "Epoch 5000: Log-likelihood=-1329.52783203125\n",
      "Epoch 10000: Log-likelihood=-1328.725830078125\n",
      "Epoch 15000: Log-likelihood=-1328.7276611328125\n",
      "Epoch 20000: Log-likelihood=-1328.7242431640625\n",
      "Epoch 25000: Log-likelihood=-1328.7911376953125\n",
      "Epoch 30000: Log-likelihood=-1332.70556640625\n",
      "Epoch 35000: Log-likelihood=-1328.8001708984375\n",
      "Epoch 40000: Log-likelihood=-1328.724365234375\n",
      "Epoch 45000: Log-likelihood=-1328.7259521484375\n",
      "Epoch 50000: Log-likelihood=-1328.723876953125\n",
      "Test set log-likelihood:  -555.259521484375\n",
      "==================== model results ====================\n",
      "Training Epochs: 50000\n",
      "\n",
      "Learning Rate: 0.003\n",
      "\n",
      "Batch Size: 1945 out of 1945 observations in total\n",
      "\n",
      "Final Log-likelihood: -1328.723876953125\n",
      "\n",
      "Coefficients:\n",
      "\n",
      "| Coefficient           |   Estimation |   Std. Err. |\n",
      "|:----------------------|-------------:|------------:|\n",
      "| price_cost_freq_ovt_0 |  -0.0486551  |  0.00834078 |\n",
      "| price_cost_freq_ovt_1 |   0.0947336  |  0.00606728 |\n",
      "| price_cost_freq_ovt_2 |  -0.0377006  |  0.00371675 |\n",
      "| session_income_0      |  -0.103218   |  0.0228     |\n",
      "| session_income_1      |  -0.0235578  |  0.00449856 |\n",
      "| session_income_2      |  -0.0340765  |  0.00476559 |\n",
      "| price_ivt_0           |   0.0502818  |  0.0119085  |\n",
      "| price_ivt_1           |  -0.0120509  |  0.00667794 |\n",
      "| price_ivt_2           |  -0.00449319 |  0.00224474 |\n",
      "| price_ivt_3           |  -0.00107239 |  0.00141298 |\n",
      "| intercept_0           |  -0.230304   |  1.56492    |\n",
      "| intercept_1           |  -0.157111   |  0.809968   |\n",
      "| intercept_2           |   1.05937    |  0.702596   |\n",
      "Total weight L2 norm: tensor(1.5588, grad_fn=<AddBackward0>)\n"
     ]
    }
   ],
   "source": [
    "train_conditional_logit_model(regularization='L2', regularization_weight=5)"
   ]
  },
  {
   "cell_type": "code",
   "execution_count": 10,
   "metadata": {},
   "outputs": [
    {
     "name": "stdout",
     "output_type": "stream",
     "text": [
      "==================== received model ====================\n",
      "ConditionalLogitModel(\n",
      "  (coef_dict): ModuleDict(\n",
      "    (price_cost_freq_ovt): Coefficient(variation=constant, num_items=4, num_users=None, num_params=3, 3 trainable parameters in total, device=cpu).\n",
      "    (session_income): Coefficient(variation=item, num_items=4, num_users=None, num_params=1, 3 trainable parameters in total, device=cpu).\n",
      "    (price_ivt): Coefficient(variation=item-full, num_items=4, num_users=None, num_params=1, 4 trainable parameters in total, device=cpu).\n",
      "    (intercept): Coefficient(variation=item, num_items=4, num_users=None, num_params=1, 3 trainable parameters in total, device=cpu).\n",
      "  )\n",
      ")\n",
      "Conditional logistic discrete choice model, expects input features:\n",
      "\n",
      "X[price_cost_freq_ovt] with 3 parameters, with constant level variation.\n",
      "X[session_income] with 1 parameters, with item level variation.\n",
      "X[price_ivt] with 1 parameters, with item-full level variation.\n",
      "X[intercept] with 1 parameters, with item level variation.\n",
      "device=cpu\n",
      "==================== received dataset ====================\n",
      "ChoiceDataset(label=[], item_index=[1945], provided_num_items=[], user_index=[], session_index=[1945], item_availability=[], price_cost_freq_ovt=[2779, 4, 3], session_income=[2779, 1], price_ivt=[2779, 4, 1], device=cpu)\n",
      "==================== training the model ====================\n",
      "Epoch 5000: Log-likelihood=-2428.99072265625\n",
      "Epoch 10000: Log-likelihood=-2621.291748046875\n",
      "Epoch 15000: Log-likelihood=-2501.494873046875\n",
      "Epoch 20000: Log-likelihood=-2521.770751953125\n",
      "Epoch 25000: Log-likelihood=-2540.04931640625\n",
      "Epoch 30000: Log-likelihood=-2476.886474609375\n",
      "Epoch 35000: Log-likelihood=-2547.24658203125\n",
      "Epoch 40000: Log-likelihood=-2405.27783203125\n",
      "Epoch 45000: Log-likelihood=-2520.431884765625\n",
      "Epoch 50000: Log-likelihood=-2593.734619140625\n",
      "Test set log-likelihood:  -1107.8939208984375\n",
      "==================== model results ====================\n",
      "Training Epochs: 50000\n",
      "\n",
      "Learning Rate: 0.003\n",
      "\n",
      "Batch Size: 1945 out of 1945 observations in total\n",
      "\n",
      "Final Log-likelihood: -2593.734619140625\n",
      "\n",
      "Coefficients:\n",
      "\n",
      "| Coefficient           |   Estimation |   Std. Err. |\n",
      "|:----------------------|-------------:|------------:|\n",
      "| price_cost_freq_ovt_0 |  4.67384e-05 |  0.0058041  |\n",
      "| price_cost_freq_ovt_1 | -0.000681596 |  0.00428159 |\n",
      "| price_cost_freq_ovt_2 | -0.000639774 |  0.00215956 |\n",
      "| session_income_0      |  0.000111802 |  0.00397661 |\n",
      "| session_income_1      | -0.000231444 |  0.0036539  |\n",
      "| session_income_2      | -0.000742798 |  0.00368423 |\n",
      "| price_ivt_0           | -0.000208053 |  0.00870371 |\n",
      "| price_ivt_1           | -0.00105764  |  0.00089881 |\n",
      "| price_ivt_2           |  0.000264551 |  0.00166444 |\n",
      "| price_ivt_3           |  0.000430204 |  0.00106675 |\n",
      "| intercept_0           |  0.000161503 |  0.581255   |\n",
      "| intercept_1           | -0.000336128 |  0.586252   |\n",
      "| intercept_2           | -0.000197672 |  0.513738   |\n",
      "Total weight L2 norm: tensor(1.0220, grad_fn=<AddBackward0>)\n"
     ]
    }
   ],
   "source": [
    "train_conditional_logit_model(regularization='L1', regularization_weight=1E5)"
   ]
  },
  {
   "cell_type": "markdown",
   "metadata": {},
   "source": [
    "## On Nested Logit Model"
   ]
  },
  {
   "cell_type": "code",
   "execution_count": 11,
   "metadata": {},
   "outputs": [
    {
     "name": "stdout",
     "output_type": "stream",
     "text": [
      "No `session_index` is provided, assume each choice instance is in its own session.\n",
      "No `session_index` is provided, assume each choice instance is in its own session.\n"
     ]
    }
   ],
   "source": [
    "df = pd.read_csv('./public_datasets/HC.csv', index_col=0)\n",
    "df = df.reset_index(drop=True)\n",
    "df.head()\n",
    "\n",
    "# what was actually chosen.\n",
    "item_index = df[df['depvar'] == True].sort_values(by='idx.id1')['idx.id2'].reset_index(drop=True)\n",
    "item_names = ['ec', 'ecc', 'er', 'erc', 'gc', 'gcc', 'hpc']\n",
    "num_items = df['idx.id2'].nunique()\n",
    "# cardinal encoder.\n",
    "encoder = dict(zip(item_names, range(num_items)))\n",
    "item_index = item_index.map(lambda x: encoder[x])\n",
    "item_index = torch.LongTensor(item_index)\n",
    "\n",
    "# category feature: no category feature, all features are item-level.\n",
    "category_dataset = ChoiceDataset(item_index=item_index.clone()).to(device)\n",
    "\n",
    "# item feature.\n",
    "item_feat_cols = ['ich', 'och', 'icca', 'occa', 'inc.room', 'inc.cooling', 'int.cooling']\n",
    "price_obs = utils.pivot3d(df, dim0='idx.id1', dim1='idx.id2', values=item_feat_cols)\n",
    "\n",
    "item_dataset = ChoiceDataset(item_index=item_index, price_obs=price_obs).to(device)\n",
    "\n",
    "dataset = JointDataset(category=category_dataset, item=item_dataset)\n",
    "\n",
    "category_to_item = {0: ['gcc', 'ecc', 'erc', 'hpc'],\n",
    "                    1: ['gc', 'ec', 'er']}\n",
    "\n",
    "# encode items to integers.\n",
    "for k, v in category_to_item.items():\n",
    "    v = [encoder[item] for item in v]\n",
    "    category_to_item[k] = sorted(v)"
   ]
  },
  {
   "cell_type": "code",
   "execution_count": 12,
   "metadata": {},
   "outputs": [],
   "source": [
    "def train_nested_logit_model(regularization, regularization_weight):\n",
    "    model = NestedLogitModel(category_to_item=category_to_item,\n",
    "                         category_coef_variation_dict={},\n",
    "                         category_num_param_dict={},\n",
    "                         item_coef_variation_dict={'price_obs': 'constant'},\n",
    "                         item_num_param_dict={'price_obs': 7},\n",
    "                         regularization=regularization,\n",
    "                         regularization_weight=regularization_weight,\n",
    "                         shared_lambda=True).to(device)\n",
    "    run(model, dataset, num_epochs=10000)"
   ]
  },
  {
   "cell_type": "code",
   "execution_count": 13,
   "metadata": {},
   "outputs": [
    {
     "name": "stdout",
     "output_type": "stream",
     "text": [
      "==================== received model ====================\n",
      "NestedLogitModel(\n",
      "  (category_coef_dict): ModuleDict()\n",
      "  (item_coef_dict): ModuleDict(\n",
      "    (price_obs): Coefficient(variation=constant, num_items=7, num_users=None, num_params=7, 7 trainable parameters in total, device=cpu).\n",
      "  )\n",
      ")\n",
      "==================== received dataset ====================\n",
      "JointDataset with 2 sub-datasets: (\n",
      "\tcategory: ChoiceDataset(label=[], item_index=[250], provided_num_items=[], user_index=[], session_index=[250], item_availability=[], device=cpu)\n",
      "\titem: ChoiceDataset(label=[], item_index=[250], provided_num_items=[], user_index=[], session_index=[250], item_availability=[], price_obs=[250, 7, 7], device=cpu)\n",
      ")\n",
      "==================== training the model ====================\n",
      "Epoch 1000: Log-likelihood=-237.844482421875\n",
      "Epoch 2000: Log-likelihood=-208.1383056640625\n",
      "Epoch 3000: Log-likelihood=-194.5755157470703\n",
      "Epoch 4000: Log-likelihood=-184.7174835205078\n",
      "Epoch 5000: Log-likelihood=-180.1705322265625\n",
      "Epoch 6000: Log-likelihood=-178.8371124267578\n",
      "Epoch 7000: Log-likelihood=-178.43067932128906\n",
      "Epoch 8000: Log-likelihood=-178.29443359375\n",
      "Epoch 9000: Log-likelihood=-178.1961212158203\n",
      "Epoch 10000: Log-likelihood=-178.14251708984375\n",
      "==================== model results ====================\n",
      "Training Epochs: 10000\n",
      "\n",
      "Learning Rate: 0.01\n",
      "\n",
      "Batch Size: 250 out of 250 observations in total\n",
      "\n",
      "Final Log-likelihood: -178.14251708984375\n",
      "\n",
      "Coefficients:\n",
      "\n",
      "| Coefficient      |   Estimation |   Std. Err. |\n",
      "|:-----------------|-------------:|------------:|\n",
      "| lambda_weight_0  |     0.57341  |   0.164128  |\n",
      "| item_price_obs_0 |    -0.543144 |   0.142511  |\n",
      "| item_price_obs_1 |    -0.840009 |   0.234258  |\n",
      "| item_price_obs_2 |    -0.238129 |   0.110543  |\n",
      "| item_price_obs_3 |    -1.22512  |   1.03543   |\n",
      "| item_price_obs_4 |    -0.370693 |   0.0991528 |\n",
      "| item_price_obs_5 |     0.247743 |   0.0514157 |\n",
      "| item_price_obs_6 |    -5.09748  |   4.74279   |\n"
     ]
    }
   ],
   "source": [
    "train_nested_logit_model(None, None)"
   ]
  },
  {
   "cell_type": "code",
   "execution_count": 14,
   "metadata": {},
   "outputs": [
    {
     "name": "stdout",
     "output_type": "stream",
     "text": [
      "==================== received model ====================\n",
      "NestedLogitModel(\n",
      "  (category_coef_dict): ModuleDict()\n",
      "  (item_coef_dict): ModuleDict(\n",
      "    (price_obs): Coefficient(variation=constant, num_items=7, num_users=None, num_params=7, 7 trainable parameters in total, device=cpu).\n",
      "  )\n",
      ")\n",
      "==================== received dataset ====================\n",
      "JointDataset with 2 sub-datasets: (\n",
      "\tcategory: ChoiceDataset(label=[], item_index=[250], provided_num_items=[], user_index=[], session_index=[250], item_availability=[], device=cpu)\n",
      "\titem: ChoiceDataset(label=[], item_index=[250], provided_num_items=[], user_index=[], session_index=[250], item_availability=[], price_obs=[250, 7, 7], device=cpu)\n",
      ")\n",
      "==================== training the model ====================\n",
      "Epoch 1000: Log-likelihood=-186.56021118164062\n",
      "Epoch 2000: Log-likelihood=-187.13079833984375\n",
      "Epoch 3000: Log-likelihood=-187.119873046875\n",
      "Epoch 4000: Log-likelihood=-187.22702026367188\n",
      "Epoch 5000: Log-likelihood=-187.32077026367188\n",
      "Epoch 6000: Log-likelihood=-187.0953369140625\n",
      "Epoch 7000: Log-likelihood=-187.16448974609375\n",
      "Epoch 8000: Log-likelihood=-187.53460693359375\n",
      "Epoch 9000: Log-likelihood=-187.1630859375\n",
      "Epoch 10000: Log-likelihood=-187.07275390625\n",
      "==================== model results ====================\n",
      "Training Epochs: 10000\n",
      "\n",
      "Learning Rate: 0.01\n",
      "\n",
      "Batch Size: 250 out of 250 observations in total\n",
      "\n",
      "Final Log-likelihood: -187.07275390625\n",
      "\n",
      "Coefficients:\n",
      "\n",
      "| Coefficient      |   Estimation |   Std. Err. |\n",
      "|:-----------------|-------------:|------------:|\n",
      "| lambda_weight_0  |  0.0563017   |   0.117599  |\n",
      "| item_price_obs_0 | -0.053867    |   0.111424  |\n",
      "| item_price_obs_1 | -0.082438    |   0.171656  |\n",
      "| item_price_obs_2 | -0.188253    |   0.0887687 |\n",
      "| item_price_obs_3 | -0.00280511  |   0.872476  |\n",
      "| item_price_obs_4 | -0.0367954   |   0.077355  |\n",
      "| item_price_obs_5 |  0.184343    |   0.0359587 |\n",
      "| item_price_obs_6 | -4.26553e-05 |   3.85542   |\n"
     ]
    }
   ],
   "source": [
    "train_nested_logit_model(\"L1\", 10)"
   ]
  },
  {
   "cell_type": "code",
   "execution_count": 15,
   "metadata": {},
   "outputs": [
    {
     "name": "stdout",
     "output_type": "stream",
     "text": [
      "==================== received model ====================\n",
      "NestedLogitModel(\n",
      "  (category_coef_dict): ModuleDict()\n",
      "  (item_coef_dict): ModuleDict(\n",
      "    (price_obs): Coefficient(variation=constant, num_items=7, num_users=None, num_params=7, 7 trainable parameters in total, device=cpu).\n",
      "  )\n",
      ")\n",
      "==================== received dataset ====================\n",
      "JointDataset with 2 sub-datasets: (\n",
      "\tcategory: ChoiceDataset(label=[], item_index=[250], provided_num_items=[], user_index=[], session_index=[250], item_availability=[], device=cpu)\n",
      "\titem: ChoiceDataset(label=[], item_index=[250], provided_num_items=[], user_index=[], session_index=[250], item_availability=[], price_obs=[250, 7, 7], device=cpu)\n",
      ")\n",
      "==================== training the model ====================\n",
      "Epoch 1000: Log-likelihood=-180.2725830078125\n",
      "Epoch 2000: Log-likelihood=-181.8987579345703\n",
      "Epoch 3000: Log-likelihood=-183.35162353515625\n",
      "Epoch 4000: Log-likelihood=-183.50677490234375\n",
      "Epoch 5000: Log-likelihood=-183.50851440429688\n",
      "Epoch 6000: Log-likelihood=-183.5084991455078\n",
      "Epoch 7000: Log-likelihood=-183.50856018066406\n",
      "Epoch 8000: Log-likelihood=-183.50436401367188\n",
      "Epoch 9000: Log-likelihood=-183.57669067382812\n",
      "Epoch 10000: Log-likelihood=-183.5086212158203\n",
      "==================== model results ====================\n",
      "Training Epochs: 10000\n",
      "\n",
      "Learning Rate: 0.01\n",
      "\n",
      "Batch Size: 250 out of 250 observations in total\n",
      "\n",
      "Final Log-likelihood: -183.5086212158203\n",
      "\n",
      "Coefficients:\n",
      "\n",
      "| Coefficient      |   Estimation |   Std. Err. |\n",
      "|:-----------------|-------------:|------------:|\n",
      "| lambda_weight_0  |    0.181393  |   0.108319  |\n",
      "| item_price_obs_0 |   -0.174923  |   0.102802  |\n",
      "| item_price_obs_1 |   -0.264861  |   0.156453  |\n",
      "| item_price_obs_2 |   -0.258882  |   0.0949704 |\n",
      "| item_price_obs_3 |   -0.151591  |   0.898661  |\n",
      "| item_price_obs_4 |   -0.118112  |   0.069729  |\n",
      "| item_price_obs_5 |    0.193273  |   0.0380585 |\n",
      "| item_price_obs_6 |   -0.0373949 |   3.90391   |\n"
     ]
    }
   ],
   "source": [
    "train_nested_logit_model(\"L2\", 10)"
   ]
  },
  {
   "cell_type": "code",
   "execution_count": null,
   "metadata": {},
   "outputs": [],
   "source": []
  }
 ],
 "metadata": {
  "kernelspec": {
   "display_name": "notebooks",
   "language": "python",
   "name": "notebooks"
  },
  "language_info": {
   "codemirror_mode": {
    "name": "ipython",
    "version": 3
   },
   "file_extension": ".py",
   "mimetype": "text/x-python",
   "name": "python",
   "nbconvert_exporter": "python",
   "pygments_lexer": "ipython3",
   "version": "3.10.9"
  },
  "orig_nbformat": 4,
  "vscode": {
   "interpreter": {
    "hash": "54faf446f2165d91fe69a546835248dd14140dd9b5c2b924a0049ef11c5c4f9a"
   }
  }
 },
 "nbformat": 4,
 "nbformat_minor": 2
}
